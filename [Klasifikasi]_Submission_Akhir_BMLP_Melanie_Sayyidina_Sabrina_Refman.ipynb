{
  "nbformat": 4,
  "nbformat_minor": 0,
  "metadata": {
    "colab": {
      "provenance": []
    },
    "kernelspec": {
      "name": "python3",
      "display_name": "Python 3"
    },
    "language_info": {
      "name": "python"
    }
  },
  "cells": [
    {
      "cell_type": "markdown",
      "source": [
        "# **1. Import Library**"
      ],
      "metadata": {
        "id": "fKADPWcFKlj3"
      }
    },
    {
      "cell_type": "markdown",
      "source": [
        "Pada tahap ini, Anda perlu mengimpor beberapa pustaka (library) Python yang dibutuhkan untuk analisis data dan pembangunan model machine learning."
      ],
      "metadata": {
        "id": "LgA3ERnVn84N"
      }
    },
    {
      "cell_type": "code",
      "source": [
        "import pandas as pd\n",
        "import numpy as np\n",
        "from sklearn.model_selection import train_test_split, StratifiedKFold, GridSearchCV, cross_val_score\n",
        "from sklearn.preprocessing import StandardScaler\n",
        "from sklearn.linear_model import LogisticRegression\n",
        "from sklearn.ensemble import RandomForestClassifier\n",
        "from sklearn.tree import DecisionTreeClassifier\n",
        "from sklearn.svm import SVC\n",
        "from sklearn.neighbors import KNeighborsClassifier\n",
        "from sklearn.metrics import accuracy_score, f1_score, confusion_matrix, classification_report\n",
        "import matplotlib.pyplot as plt\n",
        "import seaborn as sns"
      ],
      "metadata": {
        "id": "BlmvjLY9M4Yj"
      },
      "execution_count": 1,
      "outputs": []
    },
    {
      "cell_type": "markdown",
      "source": [
        "# **2. Memuat Dataset dari Hasil Clustering**"
      ],
      "metadata": {
        "id": "f3YIEnAFKrKL"
      }
    },
    {
      "cell_type": "markdown",
      "source": [
        "Memuat dataset hasil clustering dari file CSV ke dalam variabel DataFrame."
      ],
      "metadata": {
        "id": "Ey3ItwTen_7E"
      }
    },
    {
      "cell_type": "code",
      "source": [
        "# Memuat dataset dari hasil clustering\n",
        "df = pd.read_csv('/content/clustered_data.csv')\n",
        "print(df.head())"
      ],
      "metadata": {
        "id": "GHCGNTyrM5fS",
        "colab": {
          "base_uri": "https://localhost:8080/"
        },
        "outputId": "9841dfd6-bbff-4652-9a29-466feb84c705"
      },
      "execution_count": 2,
      "outputs": [
        {
          "output_type": "stream",
          "name": "stdout",
          "text": [
            "   BHK   Rent  Size  Bathroom  Price per Square Foot  \\\n",
            "0    2  10000  1100         2                      9   \n",
            "1    2  20000   800         1                     25   \n",
            "2    2  17000  1000         1                     17   \n",
            "3    2  10000   800         1                     12   \n",
            "4    2   7500   850         1                      8   \n",
            "\n",
            "   Furnishing Status_Semi-Furnished  Furnishing Status_Unfurnished  \\\n",
            "0                                 0                              1   \n",
            "1                                 1                              0   \n",
            "2                                 1                              0   \n",
            "3                                 0                              1   \n",
            "4                                 0                              1   \n",
            "\n",
            "   Area Type_Carpet Area  Area Type_Super Area  City_Chennai  City_Delhi  \\\n",
            "0                      0                     1             0           0   \n",
            "1                      0                     1             0           0   \n",
            "2                      0                     1             0           0   \n",
            "3                      0                     1             0           0   \n",
            "4                      1                     0             0           0   \n",
            "\n",
            "   City_Hyderabad  City_Kolkata  City_Mumbai  \\\n",
            "0               0             1            0   \n",
            "1               0             1            0   \n",
            "2               0             1            0   \n",
            "3               0             1            0   \n",
            "4               0             1            0   \n",
            "\n",
            "   Tenant Preferred_Bachelors/Family  Tenant Preferred_Family  Cluster  \n",
            "0                                  1                        0        0  \n",
            "1                                  1                        0        0  \n",
            "2                                  1                        0        0  \n",
            "3                                  1                        0        0  \n",
            "4                                  0                        0        0  \n"
          ]
        }
      ]
    },
    {
      "cell_type": "markdown",
      "source": [
        "# **3. Data Splitting**"
      ],
      "metadata": {
        "id": "KkPem5eWL2UP"
      }
    },
    {
      "cell_type": "markdown",
      "source": [
        "Tahap Data Splitting bertujuan untuk memisahkan dataset menjadi dua bagian: data latih (training set) dan data uji (test set)."
      ],
      "metadata": {
        "id": "YYj1rl_JNI9Y"
      }
    },
    {
      "cell_type": "code",
      "source": [
        "X = df.drop('Cluster', axis=1)\n",
        "y = df['Cluster']\n",
        "X_train, X_test, y_train, y_test = train_test_split(X, y, test_size=0.2, random_state=42)\n",
        "\n",
        "# Standarisasi fitur\n",
        "scaler = StandardScaler()\n",
        "X_train = scaler.fit_transform(X_train)\n",
        "X_test = scaler.transform(X_test)\n",
        "\n",
        "print(f\"Dimensi X_train: {X_train.shape}\")\n",
        "print(f\"Dimensi X_test: {X_test.shape}\")"
      ],
      "metadata": {
        "id": "OubAW-7ONKVj",
        "colab": {
          "base_uri": "https://localhost:8080/"
        },
        "outputId": "ed57b952-1e7a-483b-d7e9-217ca5a1da8b"
      },
      "execution_count": 3,
      "outputs": [
        {
          "output_type": "stream",
          "name": "stdout",
          "text": [
            "Dimensi X_train: (3796, 16)\n",
            "Dimensi X_test: (950, 16)\n"
          ]
        }
      ]
    },
    {
      "cell_type": "markdown",
      "source": [
        "# **4. Membangun Model Klasifikasi**\n"
      ],
      "metadata": {
        "id": "IVPbB03CMhTT"
      }
    },
    {
      "cell_type": "markdown",
      "source": [
        "## **a. Membangun Model Klasifikasi**"
      ],
      "metadata": {
        "id": "Ned1pL9zMmBK"
      }
    },
    {
      "cell_type": "markdown",
      "source": [
        "Setelah memilih algoritma klasifikasi yang sesuai, langkah selanjutnya adalah melatih model menggunakan data latih.\n",
        "\n",
        "Berikut adalah rekomendasi tahapannya.\n",
        "1. Pilih algoritma klasifikasi yang sesuai, seperti Logistic Regression, Decision Tree, Random Forest, atau K-Nearest Neighbors (KNN).\n",
        "2. Latih model menggunakan data latih."
      ],
      "metadata": {
        "id": "WAWzPOE4Nkti"
      }
    },
    {
      "cell_type": "code",
      "source": [
        "# Inisialisasi model\n",
        "log_reg = LogisticRegression(max_iter=1000, random_state=42)\n",
        "rf_clf = RandomForestClassifier(random_state=42)\n",
        "dt_clf = DecisionTreeClassifier(random_state=42)\n",
        "svm_clf = SVC(random_state=42)\n",
        "knn_clf = KNeighborsClassifier()\n",
        "\n",
        "# Melatih model\n",
        "log_reg.fit(X_train, y_train)\n",
        "rf_clf.fit(X_train, y_train)\n",
        "dt_clf.fit(X_train, y_train)\n",
        "svm_clf.fit(X_train, y_train)\n",
        "knn_clf.fit(X_train, y_train)\n",
        "\n",
        "# Prediksi\n",
        "y_pred_log_reg = log_reg.predict(X_test)\n",
        "y_pred_rf = rf_clf.predict(X_test)\n",
        "y_pred_dt = dt_clf.predict(X_test)\n",
        "y_pred_svm = svm_clf.predict(X_test)\n",
        "y_pred_knn = knn_clf.predict(X_test)"
      ],
      "metadata": {
        "id": "tPl5k-UmCrrn"
      },
      "execution_count": 4,
      "outputs": []
    },
    {
      "cell_type": "markdown",
      "source": [
        "Tulis narasi atau penjelasan algoritma yang Anda gunakan."
      ],
      "metadata": {
        "id": "seYoHNY3XU1y"
      }
    },
    {
      "cell_type": "markdown",
      "source": [
        "## **b. Evaluasi Model Klasifikasi**"
      ],
      "metadata": {
        "id": "ergzChZFEL-O"
      }
    },
    {
      "cell_type": "markdown",
      "source": [
        "Berikut adalah **rekomendasi** tahapannya.\n",
        "1. Lakukan prediksi menggunakan data uji.\n",
        "2. Hitung metrik evaluasi seperti Accuracy dan F1-Score (Opsional: Precision dan Recall).\n",
        "3. Buat confusion matrix untuk melihat detail prediksi benar dan salah."
      ],
      "metadata": {
        "id": "zOm68u-7NpLT"
      }
    },
    {
      "cell_type": "code",
      "source": [
        "def evaluate_model(y_test, y_pred, model_name):\n",
        "    print(f\"\\nEvaluasi {model_name} sebelum tuning:\")\n",
        "    print(f\"Accuracy: {accuracy_score(y_test, y_pred):.4f}\")\n",
        "    print(f\"F1-Score: {f1_score(y_test, y_pred, average='weighted'):.4f}\")\n",
        "    print(\"Confusion Matrix:\\n\", confusion_matrix(y_test, y_pred))\n",
        "    print(classification_report(y_test, y_pred))\n",
        "\n",
        "# Evaluasi masing-masing model\n",
        "evaluate_model(y_test, y_pred_log_reg, \"Logistic Regression\")\n",
        "evaluate_model(y_test, y_pred_rf, \"Random Forest\")\n",
        "evaluate_model(y_test, y_pred_dt, \"Decision Tree\")\n",
        "evaluate_model(y_test, y_pred_svm, \"SVM\")\n",
        "evaluate_model(y_test, y_pred_knn, \"K-Nearest Neighbors\")"
      ],
      "metadata": {
        "colab": {
          "base_uri": "https://localhost:8080/"
        },
        "id": "wWfxofvnCx_b",
        "outputId": "2ea33d59-d6b7-474a-9d72-59586c854a0b"
      },
      "execution_count": 5,
      "outputs": [
        {
          "output_type": "stream",
          "name": "stdout",
          "text": [
            "\n",
            "Evaluasi Logistic Regression sebelum tuning:\n",
            "Accuracy: 0.9979\n",
            "F1-Score: 0.9981\n",
            "Confusion Matrix:\n",
            " [[893   0   0]\n",
            " [  1  54   1]\n",
            " [  0   0   1]]\n",
            "              precision    recall  f1-score   support\n",
            "\n",
            "           0       1.00      1.00      1.00       893\n",
            "           1       1.00      0.96      0.98        56\n",
            "           2       0.50      1.00      0.67         1\n",
            "\n",
            "    accuracy                           1.00       950\n",
            "   macro avg       0.83      0.99      0.88       950\n",
            "weighted avg       1.00      1.00      1.00       950\n",
            "\n",
            "\n",
            "Evaluasi Random Forest sebelum tuning:\n",
            "Accuracy: 1.0000\n",
            "F1-Score: 1.0000\n",
            "Confusion Matrix:\n",
            " [[893   0   0]\n",
            " [  0  56   0]\n",
            " [  0   0   1]]\n",
            "              precision    recall  f1-score   support\n",
            "\n",
            "           0       1.00      1.00      1.00       893\n",
            "           1       1.00      1.00      1.00        56\n",
            "           2       1.00      1.00      1.00         1\n",
            "\n",
            "    accuracy                           1.00       950\n",
            "   macro avg       1.00      1.00      1.00       950\n",
            "weighted avg       1.00      1.00      1.00       950\n",
            "\n",
            "\n",
            "Evaluasi Decision Tree sebelum tuning:\n",
            "Accuracy: 1.0000\n",
            "F1-Score: 1.0000\n",
            "Confusion Matrix:\n",
            " [[893   0   0]\n",
            " [  0  56   0]\n",
            " [  0   0   1]]\n",
            "              precision    recall  f1-score   support\n",
            "\n",
            "           0       1.00      1.00      1.00       893\n",
            "           1       1.00      1.00      1.00        56\n",
            "           2       1.00      1.00      1.00         1\n",
            "\n",
            "    accuracy                           1.00       950\n",
            "   macro avg       1.00      1.00      1.00       950\n",
            "weighted avg       1.00      1.00      1.00       950\n",
            "\n",
            "\n",
            "Evaluasi SVM sebelum tuning:\n",
            "Accuracy: 0.9916\n",
            "F1-Score: 0.9909\n",
            "Confusion Matrix:\n",
            " [[892   1   0]\n",
            " [  6  50   0]\n",
            " [  1   0   0]]\n",
            "              precision    recall  f1-score   support\n",
            "\n",
            "           0       0.99      1.00      1.00       893\n",
            "           1       0.98      0.89      0.93        56\n",
            "           2       0.00      0.00      0.00         1\n",
            "\n",
            "    accuracy                           0.99       950\n",
            "   macro avg       0.66      0.63      0.64       950\n",
            "weighted avg       0.99      0.99      0.99       950\n",
            "\n",
            "\n",
            "Evaluasi K-Nearest Neighbors sebelum tuning:\n",
            "Accuracy: 0.9884\n",
            "F1-Score: 0.9879\n",
            "Confusion Matrix:\n",
            " [[892   1   0]\n",
            " [ 10  46   0]\n",
            " [  0   0   1]]\n",
            "              precision    recall  f1-score   support\n",
            "\n",
            "           0       0.99      1.00      0.99       893\n",
            "           1       0.98      0.82      0.89        56\n",
            "           2       1.00      1.00      1.00         1\n",
            "\n",
            "    accuracy                           0.99       950\n",
            "   macro avg       0.99      0.94      0.96       950\n",
            "weighted avg       0.99      0.99      0.99       950\n",
            "\n"
          ]
        },
        {
          "output_type": "stream",
          "name": "stderr",
          "text": [
            "/usr/local/lib/python3.10/dist-packages/sklearn/metrics/_classification.py:1531: UndefinedMetricWarning: Precision is ill-defined and being set to 0.0 in labels with no predicted samples. Use `zero_division` parameter to control this behavior.\n",
            "  _warn_prf(average, modifier, f\"{metric.capitalize()} is\", len(result))\n",
            "/usr/local/lib/python3.10/dist-packages/sklearn/metrics/_classification.py:1531: UndefinedMetricWarning: Precision is ill-defined and being set to 0.0 in labels with no predicted samples. Use `zero_division` parameter to control this behavior.\n",
            "  _warn_prf(average, modifier, f\"{metric.capitalize()} is\", len(result))\n",
            "/usr/local/lib/python3.10/dist-packages/sklearn/metrics/_classification.py:1531: UndefinedMetricWarning: Precision is ill-defined and being set to 0.0 in labels with no predicted samples. Use `zero_division` parameter to control this behavior.\n",
            "  _warn_prf(average, modifier, f\"{metric.capitalize()} is\", len(result))\n"
          ]
        }
      ]
    },
    {
      "cell_type": "markdown",
      "source": [
        "Tulis hasil evaluasi algoritma yang digunakan, jika Anda menggunakan 2 algoritma, maka bandingkan hasilnya."
      ],
      "metadata": {
        "id": "H4_9OwrsXZlz"
      }
    },
    {
      "cell_type": "markdown",
      "source": [
        "## **c. Tuning Model Klasifikasi (Optional)**"
      ],
      "metadata": {
        "id": "ph9yIYDXEPuB"
      }
    },
    {
      "cell_type": "markdown",
      "source": [
        "Gunakan GridSearchCV, RandomizedSearchCV, atau metode lainnya untuk mencari kombinasi hyperparameter terbaik"
      ],
      "metadata": {
        "id": "-Bikx3LINv5e"
      }
    },
    {
      "cell_type": "code",
      "source": [
        "# Cross-validation setup\n",
        "skf = StratifiedKFold(n_splits=5, shuffle=True, random_state=42)"
      ],
      "metadata": {
        "id": "winbFzb8NL95"
      },
      "execution_count": 7,
      "outputs": []
    },
    {
      "cell_type": "code",
      "source": [
        "# Hyperparameter Tuning dengan GridSearchCV\n",
        "\n",
        "def tune_model(model, param_grid, X_train, y_train, skf):\n",
        "    grid_search = GridSearchCV(model, param_grid, cv=skf, scoring='accuracy')\n",
        "    grid_search.fit(X_train, y_train)\n",
        "    return grid_search.best_estimator_\n",
        "\n",
        "# Tuning untuk masing-masing model\n",
        "param_grid_log_reg = {'C': [0.001, 0.01, 0.1, 1, 10], 'penalty': ['l1', 'l2']}\n",
        "best_log_reg = tune_model(LogisticRegression(random_state=42, max_iter=2000, solver='liblinear'), param_grid_log_reg, X_train, y_train, skf)\n",
        "\n",
        "param_grid_rf = {'n_estimators': [50, 100, 200], 'max_depth': [10, 20, 30, None], 'min_samples_split': [2, 5, 10], 'min_samples_leaf': [1, 2, 4]}\n",
        "best_rf_clf = tune_model(RandomForestClassifier(random_state=42), param_grid_rf, X_train, y_train, skf)\n",
        "\n",
        "param_grid_dt = {'max_depth': [10, 20, 30, None], 'min_samples_split': [2, 5, 10], 'min_samples_leaf': [1, 2, 4]}\n",
        "best_dt_clf = tune_model(DecisionTreeClassifier(random_state=42), param_grid_dt, X_train, y_train, skf)\n",
        "\n",
        "param_grid_svm = {'C': [0.1, 1, 10], 'kernel': ['linear', 'rbf']}\n",
        "best_svm_clf = tune_model(SVC(random_state=42), param_grid_svm, X_train, y_train, skf)\n",
        "\n",
        "param_grid_knn = {'n_neighbors': [3, 5, 7], 'weights': ['uniform', 'distance']}\n",
        "best_knn_clf = tune_model(KNeighborsClassifier(), param_grid_knn, X_train, y_train, skf)"
      ],
      "metadata": {
        "colab": {
          "base_uri": "https://localhost:8080/"
        },
        "id": "vDpKwUym8fAe",
        "outputId": "7111f428-c7eb-482b-bb79-e4a2d28be25c"
      },
      "execution_count": 8,
      "outputs": [
        {
          "output_type": "stream",
          "name": "stderr",
          "text": [
            "/usr/local/lib/python3.10/dist-packages/sklearn/model_selection/_split.py:776: UserWarning: The least populated class in y has only 1 members, which is less than n_splits=5.\n",
            "  warnings.warn(\n",
            "/usr/local/lib/python3.10/dist-packages/sklearn/model_selection/_split.py:776: UserWarning: The least populated class in y has only 1 members, which is less than n_splits=5.\n",
            "  warnings.warn(\n",
            "/usr/local/lib/python3.10/dist-packages/sklearn/model_selection/_split.py:776: UserWarning: The least populated class in y has only 1 members, which is less than n_splits=5.\n",
            "  warnings.warn(\n",
            "/usr/local/lib/python3.10/dist-packages/sklearn/model_selection/_split.py:776: UserWarning: The least populated class in y has only 1 members, which is less than n_splits=5.\n",
            "  warnings.warn(\n",
            "/usr/local/lib/python3.10/dist-packages/sklearn/model_selection/_split.py:776: UserWarning: The least populated class in y has only 1 members, which is less than n_splits=5.\n",
            "  warnings.warn(\n"
          ]
        }
      ]
    },
    {
      "cell_type": "markdown",
      "source": [
        "## **d. Evaluasi Model Klasifikasi setelah Tuning (Optional)**"
      ],
      "metadata": {
        "id": "hE7pqlEPEYzI"
      }
    },
    {
      "cell_type": "markdown",
      "source": [
        "Berikut adalah rekomendasi tahapannya.\n",
        "1. Gunakan model dengan hyperparameter terbaik.\n",
        "2. Hitung ulang metrik evaluasi untuk melihat apakah ada peningkatan performa."
      ],
      "metadata": {
        "id": "feaPESoeN0zz"
      }
    },
    {
      "cell_type": "code",
      "source": [
        "def evaluate_tuned_model(y_test, best_model, model_name):\n",
        "    y_pred_best = best_model.predict(X_test)\n",
        "    print(f\"\\nEvaluasi {model_name} setelah tuning:\")\n",
        "    print(f\"Accuracy: {accuracy_score(y_test, y_pred_best):.4f}\")\n",
        "    print(f\"F1-Score: {f1_score(y_test, y_pred_best, average='weighted'):.4f}\")\n",
        "    print(\"Confusion Matrix:\\n\", confusion_matrix(y_test, y_pred_best))\n",
        "    print(classification_report(y_test, y_pred_best))\n",
        "\n",
        "# Evaluasi model setelah tuning\n",
        "evaluate_tuned_model(y_test, best_log_reg, \"Logistic Regression\")\n",
        "evaluate_tuned_model(y_test, best_rf_clf, \"Random Forest\")\n",
        "evaluate_tuned_model(y_test, best_dt_clf, \"Decision Tree\")\n",
        "evaluate_tuned_model(y_test, best_svm_clf, \"SVM\")\n",
        "evaluate_tuned_model(y_test, best_knn_clf, \"K-Nearest Neighbors\")"
      ],
      "metadata": {
        "colab": {
          "base_uri": "https://localhost:8080/"
        },
        "id": "u0J0lY6aEAic",
        "outputId": "975af1c1-ead5-4630-c7eb-36062efd8537"
      },
      "execution_count": 9,
      "outputs": [
        {
          "output_type": "stream",
          "name": "stdout",
          "text": [
            "\n",
            "Evaluasi Logistic Regression setelah tuning:\n",
            "Accuracy: 1.0000\n",
            "F1-Score: 1.0000\n",
            "Confusion Matrix:\n",
            " [[893   0   0]\n",
            " [  0  56   0]\n",
            " [  0   0   1]]\n",
            "              precision    recall  f1-score   support\n",
            "\n",
            "           0       1.00      1.00      1.00       893\n",
            "           1       1.00      1.00      1.00        56\n",
            "           2       1.00      1.00      1.00         1\n",
            "\n",
            "    accuracy                           1.00       950\n",
            "   macro avg       1.00      1.00      1.00       950\n",
            "weighted avg       1.00      1.00      1.00       950\n",
            "\n",
            "\n",
            "Evaluasi Random Forest setelah tuning:\n",
            "Accuracy: 1.0000\n",
            "F1-Score: 1.0000\n",
            "Confusion Matrix:\n",
            " [[893   0   0]\n",
            " [  0  56   0]\n",
            " [  0   0   1]]\n",
            "              precision    recall  f1-score   support\n",
            "\n",
            "           0       1.00      1.00      1.00       893\n",
            "           1       1.00      1.00      1.00        56\n",
            "           2       1.00      1.00      1.00         1\n",
            "\n",
            "    accuracy                           1.00       950\n",
            "   macro avg       1.00      1.00      1.00       950\n",
            "weighted avg       1.00      1.00      1.00       950\n",
            "\n",
            "\n",
            "Evaluasi Decision Tree setelah tuning:\n",
            "Accuracy: 1.0000\n",
            "F1-Score: 1.0000\n",
            "Confusion Matrix:\n",
            " [[893   0   0]\n",
            " [  0  56   0]\n",
            " [  0   0   1]]\n",
            "              precision    recall  f1-score   support\n",
            "\n",
            "           0       1.00      1.00      1.00       893\n",
            "           1       1.00      1.00      1.00        56\n",
            "           2       1.00      1.00      1.00         1\n",
            "\n",
            "    accuracy                           1.00       950\n",
            "   macro avg       1.00      1.00      1.00       950\n",
            "weighted avg       1.00      1.00      1.00       950\n",
            "\n",
            "\n",
            "Evaluasi SVM setelah tuning:\n",
            "Accuracy: 0.9979\n",
            "F1-Score: 0.9981\n",
            "Confusion Matrix:\n",
            " [[893   0   0]\n",
            " [  1  54   1]\n",
            " [  0   0   1]]\n",
            "              precision    recall  f1-score   support\n",
            "\n",
            "           0       1.00      1.00      1.00       893\n",
            "           1       1.00      0.96      0.98        56\n",
            "           2       0.50      1.00      0.67         1\n",
            "\n",
            "    accuracy                           1.00       950\n",
            "   macro avg       0.83      0.99      0.88       950\n",
            "weighted avg       1.00      1.00      1.00       950\n",
            "\n",
            "\n",
            "Evaluasi K-Nearest Neighbors setelah tuning:\n",
            "Accuracy: 0.9926\n",
            "F1-Score: 0.9925\n",
            "Confusion Matrix:\n",
            " [[892   1   0]\n",
            " [  6  50   0]\n",
            " [  0   0   1]]\n",
            "              precision    recall  f1-score   support\n",
            "\n",
            "           0       0.99      1.00      1.00       893\n",
            "           1       0.98      0.89      0.93        56\n",
            "           2       1.00      1.00      1.00         1\n",
            "\n",
            "    accuracy                           0.99       950\n",
            "   macro avg       0.99      0.96      0.98       950\n",
            "weighted avg       0.99      0.99      0.99       950\n",
            "\n"
          ]
        }
      ]
    },
    {
      "cell_type": "code",
      "source": [
        "# Cross-validation\n",
        "def cross_val_performance(model, X, y, skf):\n",
        "    cross_val_accuracy = cross_val_score(model, X, y, cv=skf, scoring='accuracy')\n",
        "    cross_val_f1 = cross_val_score(model, X, y, cv=skf, scoring='f1_weighted')\n",
        "    return cross_val_accuracy, cross_val_f1\n",
        "\n",
        "# Cross-validation untuk masing-masing model\n",
        "models = [best_log_reg, best_rf_clf, best_dt_clf, best_svm_clf, best_knn_clf]\n",
        "model_names = [\"Logistic Regression\", \"Random Forest\", \"Decision Tree\", \"SVM\", \"K-Nearest Neighbors\"]\n",
        "\n",
        "for model, name in zip(models, model_names):\n",
        "    cross_val_accuracy, cross_val_f1 = cross_val_performance(model, X, y, skf)\n",
        "    print(f\"\\nCross-validation untuk {name}:\")\n",
        "    print(f\"Accuracy: {cross_val_accuracy.mean():.4f} ± {cross_val_accuracy.std():.4f}\")\n",
        "    print(f\"F1-Score: {cross_val_f1.mean():.4f} ± {cross_val_f1.std():.4f}\")"
      ],
      "metadata": {
        "colab": {
          "base_uri": "https://localhost:8080/"
        },
        "id": "emMRkWbsEE4e",
        "outputId": "e8aa73cd-95a6-4735-d493-7dbcaf3166e5"
      },
      "execution_count": 10,
      "outputs": [
        {
          "output_type": "stream",
          "name": "stderr",
          "text": [
            "/usr/local/lib/python3.10/dist-packages/sklearn/model_selection/_split.py:776: UserWarning: The least populated class in y has only 1 members, which is less than n_splits=5.\n",
            "  warnings.warn(\n",
            "/usr/local/lib/python3.10/dist-packages/sklearn/model_selection/_split.py:776: UserWarning: The least populated class in y has only 1 members, which is less than n_splits=5.\n",
            "  warnings.warn(\n"
          ]
        },
        {
          "output_type": "stream",
          "name": "stdout",
          "text": [
            "\n",
            "Cross-validation untuk Logistic Regression:\n",
            "Accuracy: 0.9970 ± 0.0015\n",
            "F1-Score: 0.9961 ± 0.0020\n"
          ]
        },
        {
          "output_type": "stream",
          "name": "stderr",
          "text": [
            "/usr/local/lib/python3.10/dist-packages/sklearn/model_selection/_split.py:776: UserWarning: The least populated class in y has only 1 members, which is less than n_splits=5.\n",
            "  warnings.warn(\n",
            "/usr/local/lib/python3.10/dist-packages/sklearn/model_selection/_split.py:776: UserWarning: The least populated class in y has only 1 members, which is less than n_splits=5.\n",
            "  warnings.warn(\n"
          ]
        },
        {
          "output_type": "stream",
          "name": "stdout",
          "text": [
            "\n",
            "Cross-validation untuk Random Forest:\n",
            "Accuracy: 0.9992 ± 0.0008\n",
            "F1-Score: 0.9989 ± 0.0010\n",
            "\n",
            "Cross-validation untuk Decision Tree:\n",
            "Accuracy: 0.9998 ± 0.0004\n",
            "F1-Score: 0.9997 ± 0.0006\n",
            "\n",
            "Cross-validation untuk SVM:\n",
            "Accuracy: 0.9998 ± 0.0004\n",
            "F1-Score: 0.9997 ± 0.0006\n"
          ]
        },
        {
          "output_type": "stream",
          "name": "stderr",
          "text": [
            "/usr/local/lib/python3.10/dist-packages/sklearn/model_selection/_split.py:776: UserWarning: The least populated class in y has only 1 members, which is less than n_splits=5.\n",
            "  warnings.warn(\n",
            "/usr/local/lib/python3.10/dist-packages/sklearn/model_selection/_split.py:776: UserWarning: The least populated class in y has only 1 members, which is less than n_splits=5.\n",
            "  warnings.warn(\n",
            "/usr/local/lib/python3.10/dist-packages/sklearn/model_selection/_split.py:776: UserWarning: The least populated class in y has only 1 members, which is less than n_splits=5.\n",
            "  warnings.warn(\n",
            "/usr/local/lib/python3.10/dist-packages/sklearn/model_selection/_split.py:776: UserWarning: The least populated class in y has only 1 members, which is less than n_splits=5.\n",
            "  warnings.warn(\n",
            "/usr/local/lib/python3.10/dist-packages/sklearn/model_selection/_split.py:776: UserWarning: The least populated class in y has only 1 members, which is less than n_splits=5.\n",
            "  warnings.warn(\n",
            "/usr/local/lib/python3.10/dist-packages/sklearn/model_selection/_split.py:776: UserWarning: The least populated class in y has only 1 members, which is less than n_splits=5.\n",
            "  warnings.warn(\n"
          ]
        },
        {
          "output_type": "stream",
          "name": "stdout",
          "text": [
            "\n",
            "Cross-validation untuk K-Nearest Neighbors:\n",
            "Accuracy: 0.9998 ± 0.0004\n",
            "F1-Score: 0.9997 ± 0.0006\n"
          ]
        }
      ]
    },
    {
      "cell_type": "markdown",
      "source": [
        "## **e. Analisis Hasil Evaluasi Model Klasifikasi**"
      ],
      "metadata": {
        "id": "ZRsOdm4uEgAW"
      }
    },
    {
      "cell_type": "markdown",
      "source": [
        "Berikut adalah **rekomendasi** tahapannya.\n",
        "1. Bandingkan hasil evaluasi sebelum dan setelah tuning (jika dilakukan).\n",
        "2. Identifikasi kelemahan model, seperti:\n",
        "  - Precision atau Recall rendah untuk kelas tertentu.\n",
        "  - Apakah model mengalami overfitting atau underfitting?\n",
        "3. Berikan rekomendasi tindakan lanjutan, seperti mengumpulkan data tambahan atau mencoba algoritma lain jika hasil belum memuaskan."
      ],
      "metadata": {
        "id": "Hm3BhSi6N4_l"
      }
    },
    {
      "cell_type": "markdown",
      "source": [
        "Berdasarkan hasil evaluasi model (Logistic Regression, Random Forest, Decision Tree, dan SVM), berikut adalah analisis dan rekomendasi tindakan lanjutan:\n",
        "\n",
        "#### 1. **Perbandingan Hasil Evaluasi**\n",
        "- **Logistic Regression**: Akurasi 0.9970, F1-Score 0.9961\n",
        "- **Random Forest**: Akurasi 0.9992, F1-Score 0.9989\n",
        "- **Decision Tree**: Akurasi 0.9998, F1-Score 0.9997\n",
        "- **SVM**: Akurasi 0.9998, F1-Score 0.9997\n",
        "\n",
        "Secara umum, **Decision Tree** dan **SVM** menunjukkan hasil terbaik dengan akurasi dan F1-Score yang sangat tinggi dan stabil. **Logistic Regression** dan **Random Forest** juga menunjukkan performa baik, meskipun sedikit lebih rendah.\n",
        "\n",
        "#### 2. **Identifikasi Kelemahan Model**\n",
        "- **Precision dan Recall**: Penting untuk memeriksa apakah ada kelas tertentu yang memiliki precision atau recall rendah, terutama pada kelas minoritas. Meski hasilnya sangat baik, perlu dicek apakah model cenderung bias terhadap kelas mayoritas.\n",
        "- **Overfitting atau Underfitting**: Berdasarkan hasil cross-validation, model tidak menunjukkan tanda-tanda overfitting atau underfitting. **Decision Tree** dan **SVM** cukup stabil, sedangkan **Random Forest** dan **Logistic Regression** sedikit lebih bervariasi, tetapi hasilnya tetap bagus.\n",
        "\n",
        "#### 3. **Rekomendasi Tindakan Lanjutan**\n",
        "- **Pengumpulan Data Tambahan**: Jika model menghadapi kesulitan dengan kelas minoritas, mengumpulkan lebih banyak data untuk kelas tersebut bisa membantu meningkatkan performa model.\n",
        "- **Eksplorasi Algoritma Lain**: Mencoba algoritma lain seperti **XGBoost** atau **LightGBM** yang mungkin menawarkan hasil lebih baik. Metode ensemble juga bisa dipertimbangkan.\n",
        "- **Evaluasi Precision dan Recall Secara Terpisah**: Untuk aplikasi yang sensitif terhadap false positives/negatives, memastikan untuk memeriksa precision dan recall untuk masing-masing kelas.\n",
        "- **Tuning Hyperparameter**: Menggunakan **GridSearchCV** atau **RandomizedSearchCV** untuk meningkatkan performa model, terutama untuk Random Forest dan SVM."
      ],
      "metadata": {
        "id": "1XD0bUJ9BxtU"
      }
    }
  ]
}